{
  "nbformat": 4,
  "nbformat_minor": 5,
  "metadata": {
    "colab": {
      "name": "Demo Stable Telegram BOT v2.ipynb",
      "provenance": [],
      "collapsed_sections": []
    },
    "kernelspec": {
      "display_name": "Python 3",
      "language": "python",
      "name": "python3"
    },
    "language_info": {
      "codemirror_mode": {
        "name": "ipython",
        "version": 3
      },
      "file_extension": ".py",
      "mimetype": "text/x-python",
      "name": "python",
      "nbconvert_exporter": "python",
      "pygments_lexer": "ipython3",
      "version": "3.6.13"
    }
  },
  "cells": [
    {
      "cell_type": "markdown",
      "metadata": {
        "id": "031MQGb0E15h"
      },
      "source": [
        "# Essential Libary and requirement\n",
        "\n",
        "Please restart runtime only if it requires in the output view."
      ],
      "id": "031MQGb0E15h"
    },
    {
      "cell_type": "code",
      "metadata": {
        "colab": {
          "base_uri": "https://localhost:8080/",
          "height": 1000
        },
        "id": "Y_egK520z3S-",
        "outputId": "e936d07f-0aec-44bb-ab3c-fcb3a8dda71f"
      },
      "source": [
        "!pip install python-telegram-bot\n",
        "!pip install malaya\n",
        "!pip install youtokentome\n",
        "!pip install langdetect"
      ],
      "id": "Y_egK520z3S-",
      "execution_count": null,
      "outputs": [
        {
          "output_type": "stream",
          "name": "stdout",
          "text": [
            "Collecting python-telegram-bot\n",
            "  Downloading python_telegram_bot-13.11-py3-none-any.whl (497 kB)\n",
            "\u001b[?25l\r\u001b[K     |▋                               | 10 kB 24.6 MB/s eta 0:00:01\r\u001b[K     |█▎                              | 20 kB 29.2 MB/s eta 0:00:01\r\u001b[K     |██                              | 30 kB 36.1 MB/s eta 0:00:01\r\u001b[K     |██▋                             | 40 kB 39.9 MB/s eta 0:00:01\r\u001b[K     |███▎                            | 51 kB 42.3 MB/s eta 0:00:01\r\u001b[K     |████                            | 61 kB 29.2 MB/s eta 0:00:01\r\u001b[K     |████▋                           | 71 kB 24.6 MB/s eta 0:00:01\r\u001b[K     |█████▎                          | 81 kB 26.1 MB/s eta 0:00:01\r\u001b[K     |██████                          | 92 kB 24.4 MB/s eta 0:00:01\r\u001b[K     |██████▋                         | 102 kB 24.1 MB/s eta 0:00:01\r\u001b[K     |███████▎                        | 112 kB 24.1 MB/s eta 0:00:01\r\u001b[K     |████████                        | 122 kB 24.1 MB/s eta 0:00:01\r\u001b[K     |████████▌                       | 133 kB 24.1 MB/s eta 0:00:01\r\u001b[K     |█████████▏                      | 143 kB 24.1 MB/s eta 0:00:01\r\u001b[K     |█████████▉                      | 153 kB 24.1 MB/s eta 0:00:01\r\u001b[K     |██████████▌                     | 163 kB 24.1 MB/s eta 0:00:01\r\u001b[K     |███████████▏                    | 174 kB 24.1 MB/s eta 0:00:01\r\u001b[K     |███████████▉                    | 184 kB 24.1 MB/s eta 0:00:01\r\u001b[K     |████████████▌                   | 194 kB 24.1 MB/s eta 0:00:01\r\u001b[K     |█████████████▏                  | 204 kB 24.1 MB/s eta 0:00:01\r\u001b[K     |█████████████▉                  | 215 kB 24.1 MB/s eta 0:00:01\r\u001b[K     |██████████████▌                 | 225 kB 24.1 MB/s eta 0:00:01\r\u001b[K     |███████████████▏                | 235 kB 24.1 MB/s eta 0:00:01\r\u001b[K     |███████████████▉                | 245 kB 24.1 MB/s eta 0:00:01\r\u001b[K     |████████████████▌               | 256 kB 24.1 MB/s eta 0:00:01\r\u001b[K     |█████████████████               | 266 kB 24.1 MB/s eta 0:00:01\r\u001b[K     |█████████████████▊              | 276 kB 24.1 MB/s eta 0:00:01\r\u001b[K     |██████████████████▍             | 286 kB 24.1 MB/s eta 0:00:01\r\u001b[K     |███████████████████             | 296 kB 24.1 MB/s eta 0:00:01\r\u001b[K     |███████████████████▊            | 307 kB 24.1 MB/s eta 0:00:01\r\u001b[K     |████████████████████▍           | 317 kB 24.1 MB/s eta 0:00:01\r\u001b[K     |█████████████████████           | 327 kB 24.1 MB/s eta 0:00:01\r\u001b[K     |█████████████████████▊          | 337 kB 24.1 MB/s eta 0:00:01\r\u001b[K     |██████████████████████▍         | 348 kB 24.1 MB/s eta 0:00:01\r\u001b[K     |███████████████████████         | 358 kB 24.1 MB/s eta 0:00:01\r\u001b[K     |███████████████████████▊        | 368 kB 24.1 MB/s eta 0:00:01\r\u001b[K     |████████████████████████▍       | 378 kB 24.1 MB/s eta 0:00:01\r\u001b[K     |█████████████████████████       | 389 kB 24.1 MB/s eta 0:00:01\r\u001b[K     |█████████████████████████▋      | 399 kB 24.1 MB/s eta 0:00:01\r\u001b[K     |██████████████████████████▎     | 409 kB 24.1 MB/s eta 0:00:01\r\u001b[K     |███████████████████████████     | 419 kB 24.1 MB/s eta 0:00:01\r\u001b[K     |███████████████████████████▋    | 430 kB 24.1 MB/s eta 0:00:01\r\u001b[K     |████████████████████████████▎   | 440 kB 24.1 MB/s eta 0:00:01\r\u001b[K     |█████████████████████████████   | 450 kB 24.1 MB/s eta 0:00:01\r\u001b[K     |█████████████████████████████▋  | 460 kB 24.1 MB/s eta 0:00:01\r\u001b[K     |██████████████████████████████▎ | 471 kB 24.1 MB/s eta 0:00:01\r\u001b[K     |███████████████████████████████ | 481 kB 24.1 MB/s eta 0:00:01\r\u001b[K     |███████████████████████████████▋| 491 kB 24.1 MB/s eta 0:00:01\r\u001b[K     |████████████████████████████████| 497 kB 24.1 MB/s \n",
            "\u001b[?25hRequirement already satisfied: pytz>=2018.6 in /usr/local/lib/python3.7/dist-packages (from python-telegram-bot) (2018.9)\n",
            "Requirement already satisfied: certifi in /usr/local/lib/python3.7/dist-packages (from python-telegram-bot) (2021.10.8)\n",
            "Collecting tornado>=6.1\n",
            "  Downloading tornado-6.1-cp37-cp37m-manylinux2010_x86_64.whl (428 kB)\n",
            "\u001b[K     |████████████████████████████████| 428 kB 67.6 MB/s \n",
            "\u001b[?25hCollecting APScheduler==3.6.3\n",
            "  Downloading APScheduler-3.6.3-py2.py3-none-any.whl (58 kB)\n",
            "\u001b[K     |████████████████████████████████| 58 kB 6.1 MB/s \n",
            "\u001b[?25hCollecting cachetools==4.2.2\n",
            "  Downloading cachetools-4.2.2-py3-none-any.whl (11 kB)\n",
            "Requirement already satisfied: six>=1.4.0 in /usr/local/lib/python3.7/dist-packages (from APScheduler==3.6.3->python-telegram-bot) (1.15.0)\n",
            "Requirement already satisfied: setuptools>=0.7 in /usr/local/lib/python3.7/dist-packages (from APScheduler==3.6.3->python-telegram-bot) (57.4.0)\n",
            "Requirement already satisfied: tzlocal>=1.2 in /usr/local/lib/python3.7/dist-packages (from APScheduler==3.6.3->python-telegram-bot) (1.5.1)\n",
            "Installing collected packages: tornado, cachetools, APScheduler, python-telegram-bot\n",
            "  Attempting uninstall: tornado\n",
            "    Found existing installation: tornado 5.1.1\n",
            "    Uninstalling tornado-5.1.1:\n",
            "      Successfully uninstalled tornado-5.1.1\n",
            "  Attempting uninstall: cachetools\n",
            "    Found existing installation: cachetools 4.2.4\n",
            "    Uninstalling cachetools-4.2.4:\n",
            "      Successfully uninstalled cachetools-4.2.4\n",
            "\u001b[31mERROR: pip's dependency resolver does not currently take into account all the packages that are installed. This behaviour is the source of the following dependency conflicts.\n",
            "google-colab 1.0.0 requires tornado~=5.1.0; python_version >= \"3.0\", but you have tornado 6.1 which is incompatible.\u001b[0m\n",
            "Successfully installed APScheduler-3.6.3 cachetools-4.2.2 python-telegram-bot-13.11 tornado-6.1\n"
          ]
        },
        {
          "output_type": "display_data",
          "data": {
            "application/vnd.colab-display-data+json": {
              "pip_warning": {
                "packages": [
                  "tornado"
                ]
              }
            }
          },
          "metadata": {}
        },
        {
          "output_type": "stream",
          "name": "stdout",
          "text": [
            "Collecting malaya\n",
            "  Downloading malaya-4.7.1-py3-none-any.whl (2.2 MB)\n",
            "\u001b[K     |████████████████████████████████| 2.2 MB 25.6 MB/s \n",
            "\u001b[?25hRequirement already satisfied: regex in /usr/local/lib/python3.7/dist-packages (from malaya) (2019.12.20)\n",
            "Collecting herpetologist\n",
            "  Downloading herpetologist-0.0.9-py3-none-any.whl (2.4 kB)\n",
            "Requirement already satisfied: requests in /usr/local/lib/python3.7/dist-packages (from malaya) (2.23.0)\n",
            "Requirement already satisfied: numpy in /usr/local/lib/python3.7/dist-packages (from malaya) (1.19.5)\n",
            "Collecting unidecode\n",
            "  Downloading Unidecode-1.3.2-py3-none-any.whl (235 kB)\n",
            "\u001b[K     |████████████████████████████████| 235 kB 58.1 MB/s \n",
            "\u001b[?25hCollecting ftfy\n",
            "  Downloading ftfy-6.1.1-py3-none-any.whl (53 kB)\n",
            "\u001b[K     |████████████████████████████████| 53 kB 1.6 MB/s \n",
            "\u001b[?25hRequirement already satisfied: tqdm in /usr/local/lib/python3.7/dist-packages (from malaya) (4.62.3)\n",
            "Collecting malaya-boilerplate>=0.0.10\n",
            "  Downloading malaya_boilerplate-0.0.15-py3-none-any.whl (11 kB)\n",
            "Collecting dateparser\n",
            "  Downloading dateparser-1.1.0-py2.py3-none-any.whl (288 kB)\n",
            "\u001b[K     |████████████████████████████████| 288 kB 67.2 MB/s \n",
            "\u001b[?25hRequirement already satisfied: scipy in /usr/local/lib/python3.7/dist-packages (from malaya) (1.4.1)\n",
            "Collecting networkx<=2.5.1\n",
            "  Downloading networkx-2.5.1-py3-none-any.whl (1.6 MB)\n",
            "\u001b[K     |████████████████████████████████| 1.6 MB 61.2 MB/s \n",
            "\u001b[?25hCollecting sentencepiece\n",
            "  Downloading sentencepiece-0.1.96-cp37-cp37m-manylinux_2_17_x86_64.manylinux2014_x86_64.whl (1.2 MB)\n",
            "\u001b[K     |████████████████████████████████| 1.2 MB 50.9 MB/s \n",
            "\u001b[?25hRequirement already satisfied: tensorflow>=1.15 in /usr/local/lib/python3.7/dist-packages (from malaya) (2.7.0)\n",
            "Requirement already satisfied: scikit-learn in /usr/local/lib/python3.7/dist-packages (from malaya) (1.0.2)\n",
            "Requirement already satisfied: decorator<5,>=4.3 in /usr/local/lib/python3.7/dist-packages (from networkx<=2.5.1->malaya) (4.4.2)\n",
            "Requirement already satisfied: termcolor>=1.1.0 in /usr/local/lib/python3.7/dist-packages (from tensorflow>=1.15->malaya) (1.1.0)\n",
            "Requirement already satisfied: flatbuffers<3.0,>=1.12 in /usr/local/lib/python3.7/dist-packages (from tensorflow>=1.15->malaya) (2.0)\n",
            "Requirement already satisfied: gast<0.5.0,>=0.2.1 in /usr/local/lib/python3.7/dist-packages (from tensorflow>=1.15->malaya) (0.4.0)\n",
            "Requirement already satisfied: tensorflow-io-gcs-filesystem>=0.21.0 in /usr/local/lib/python3.7/dist-packages (from tensorflow>=1.15->malaya) (0.24.0)\n",
            "Requirement already satisfied: keras-preprocessing>=1.1.1 in /usr/local/lib/python3.7/dist-packages (from tensorflow>=1.15->malaya) (1.1.2)\n",
            "Requirement already satisfied: tensorflow-estimator<2.8,~=2.7.0rc0 in /usr/local/lib/python3.7/dist-packages (from tensorflow>=1.15->malaya) (2.7.0)\n",
            "Requirement already satisfied: h5py>=2.9.0 in /usr/local/lib/python3.7/dist-packages (from tensorflow>=1.15->malaya) (3.1.0)\n",
            "Requirement already satisfied: libclang>=9.0.1 in /usr/local/lib/python3.7/dist-packages (from tensorflow>=1.15->malaya) (13.0.0)\n",
            "Requirement already satisfied: tensorboard~=2.6 in /usr/local/lib/python3.7/dist-packages (from tensorflow>=1.15->malaya) (2.7.0)\n",
            "Requirement already satisfied: wrapt>=1.11.0 in /usr/local/lib/python3.7/dist-packages (from tensorflow>=1.15->malaya) (1.13.3)\n",
            "Requirement already satisfied: six>=1.12.0 in /usr/local/lib/python3.7/dist-packages (from tensorflow>=1.15->malaya) (1.15.0)\n",
            "Requirement already satisfied: astunparse>=1.6.0 in /usr/local/lib/python3.7/dist-packages (from tensorflow>=1.15->malaya) (1.6.3)\n",
            "Requirement already satisfied: grpcio<2.0,>=1.24.3 in /usr/local/lib/python3.7/dist-packages (from tensorflow>=1.15->malaya) (1.43.0)\n",
            "Requirement already satisfied: absl-py>=0.4.0 in /usr/local/lib/python3.7/dist-packages (from tensorflow>=1.15->malaya) (1.0.0)\n",
            "Requirement already satisfied: typing-extensions>=3.6.6 in /usr/local/lib/python3.7/dist-packages (from tensorflow>=1.15->malaya) (3.10.0.2)\n",
            "Requirement already satisfied: wheel<1.0,>=0.32.0 in /usr/local/lib/python3.7/dist-packages (from tensorflow>=1.15->malaya) (0.37.1)\n",
            "Requirement already satisfied: protobuf>=3.9.2 in /usr/local/lib/python3.7/dist-packages (from tensorflow>=1.15->malaya) (3.17.3)\n",
            "Requirement already satisfied: keras<2.8,>=2.7.0rc0 in /usr/local/lib/python3.7/dist-packages (from tensorflow>=1.15->malaya) (2.7.0)\n",
            "Requirement already satisfied: opt-einsum>=2.3.2 in /usr/local/lib/python3.7/dist-packages (from tensorflow>=1.15->malaya) (3.3.0)\n",
            "Requirement already satisfied: google-pasta>=0.1.1 in /usr/local/lib/python3.7/dist-packages (from tensorflow>=1.15->malaya) (0.2.0)\n",
            "Requirement already satisfied: cached-property in /usr/local/lib/python3.7/dist-packages (from h5py>=2.9.0->tensorflow>=1.15->malaya) (1.5.2)\n",
            "Requirement already satisfied: werkzeug>=0.11.15 in /usr/local/lib/python3.7/dist-packages (from tensorboard~=2.6->tensorflow>=1.15->malaya) (1.0.1)\n",
            "Requirement already satisfied: setuptools>=41.0.0 in /usr/local/lib/python3.7/dist-packages (from tensorboard~=2.6->tensorflow>=1.15->malaya) (57.4.0)\n",
            "Requirement already satisfied: tensorboard-data-server<0.7.0,>=0.6.0 in /usr/local/lib/python3.7/dist-packages (from tensorboard~=2.6->tensorflow>=1.15->malaya) (0.6.1)\n",
            "Requirement already satisfied: google-auth<3,>=1.6.3 in /usr/local/lib/python3.7/dist-packages (from tensorboard~=2.6->tensorflow>=1.15->malaya) (1.35.0)\n",
            "Requirement already satisfied: tensorboard-plugin-wit>=1.6.0 in /usr/local/lib/python3.7/dist-packages (from tensorboard~=2.6->tensorflow>=1.15->malaya) (1.8.1)\n",
            "Requirement already satisfied: markdown>=2.6.8 in /usr/local/lib/python3.7/dist-packages (from tensorboard~=2.6->tensorflow>=1.15->malaya) (3.3.6)\n",
            "Requirement already satisfied: google-auth-oauthlib<0.5,>=0.4.1 in /usr/local/lib/python3.7/dist-packages (from tensorboard~=2.6->tensorflow>=1.15->malaya) (0.4.6)\n",
            "Requirement already satisfied: pyasn1-modules>=0.2.1 in /usr/local/lib/python3.7/dist-packages (from google-auth<3,>=1.6.3->tensorboard~=2.6->tensorflow>=1.15->malaya) (0.2.8)\n",
            "Requirement already satisfied: cachetools<5.0,>=2.0.0 in /usr/local/lib/python3.7/dist-packages (from google-auth<3,>=1.6.3->tensorboard~=2.6->tensorflow>=1.15->malaya) (4.2.2)\n",
            "Requirement already satisfied: rsa<5,>=3.1.4 in /usr/local/lib/python3.7/dist-packages (from google-auth<3,>=1.6.3->tensorboard~=2.6->tensorflow>=1.15->malaya) (4.8)\n",
            "Requirement already satisfied: requests-oauthlib>=0.7.0 in /usr/local/lib/python3.7/dist-packages (from google-auth-oauthlib<0.5,>=0.4.1->tensorboard~=2.6->tensorflow>=1.15->malaya) (1.3.1)\n",
            "Requirement already satisfied: importlib-metadata>=4.4 in /usr/local/lib/python3.7/dist-packages (from markdown>=2.6.8->tensorboard~=2.6->tensorflow>=1.15->malaya) (4.10.1)\n",
            "Requirement already satisfied: zipp>=0.5 in /usr/local/lib/python3.7/dist-packages (from importlib-metadata>=4.4->markdown>=2.6.8->tensorboard~=2.6->tensorflow>=1.15->malaya) (3.7.0)\n",
            "Requirement already satisfied: pyasn1<0.5.0,>=0.4.6 in /usr/local/lib/python3.7/dist-packages (from pyasn1-modules>=0.2.1->google-auth<3,>=1.6.3->tensorboard~=2.6->tensorflow>=1.15->malaya) (0.4.8)\n",
            "Requirement already satisfied: certifi>=2017.4.17 in /usr/local/lib/python3.7/dist-packages (from requests->malaya) (2021.10.8)\n",
            "Requirement already satisfied: chardet<4,>=3.0.2 in /usr/local/lib/python3.7/dist-packages (from requests->malaya) (3.0.4)\n",
            "Requirement already satisfied: idna<3,>=2.5 in /usr/local/lib/python3.7/dist-packages (from requests->malaya) (2.10)\n",
            "Requirement already satisfied: urllib3!=1.25.0,!=1.25.1,<1.26,>=1.21.1 in /usr/local/lib/python3.7/dist-packages (from requests->malaya) (1.24.3)\n",
            "Requirement already satisfied: oauthlib>=3.0.0 in /usr/local/lib/python3.7/dist-packages (from requests-oauthlib>=0.7.0->google-auth-oauthlib<0.5,>=0.4.1->tensorboard~=2.6->tensorflow>=1.15->malaya) (3.2.0)\n",
            "Requirement already satisfied: tzlocal in /usr/local/lib/python3.7/dist-packages (from dateparser->malaya) (1.5.1)\n",
            "Requirement already satisfied: pytz in /usr/local/lib/python3.7/dist-packages (from dateparser->malaya) (2018.9)\n",
            "Requirement already satisfied: python-dateutil in /usr/local/lib/python3.7/dist-packages (from dateparser->malaya) (2.8.2)\n",
            "Requirement already satisfied: wcwidth>=0.2.5 in /usr/local/lib/python3.7/dist-packages (from ftfy->malaya) (0.2.5)\n",
            "Collecting memoization\n",
            "  Downloading memoization-0.4.0.tar.gz (41 kB)\n",
            "\u001b[K     |████████████████████████████████| 41 kB 174 kB/s \n",
            "\u001b[?25hRequirement already satisfied: joblib>=0.11 in /usr/local/lib/python3.7/dist-packages (from scikit-learn->malaya) (1.1.0)\n",
            "Requirement already satisfied: threadpoolctl>=2.0.0 in /usr/local/lib/python3.7/dist-packages (from scikit-learn->malaya) (3.1.0)\n",
            "Building wheels for collected packages: memoization\n",
            "  Building wheel for memoization (setup.py) ... \u001b[?25l\u001b[?25hdone\n",
            "  Created wheel for memoization: filename=memoization-0.4.0-py3-none-any.whl size=50467 sha256=ae193cded4ae105cf51ac2fbfc840f8a677a2299cbdb17b3e5ebae7c822d4751\n",
            "  Stored in directory: /root/.cache/pip/wheels/38/f7/65/161985e7311dd484a23b3a5c9149995dbf11db6cede602e7ef\n",
            "Successfully built memoization\n",
            "Installing collected packages: memoization, unidecode, sentencepiece, networkx, malaya-boilerplate, herpetologist, ftfy, dateparser, malaya\n",
            "  Attempting uninstall: networkx\n",
            "    Found existing installation: networkx 2.6.3\n",
            "    Uninstalling networkx-2.6.3:\n",
            "      Successfully uninstalled networkx-2.6.3\n",
            "\u001b[31mERROR: pip's dependency resolver does not currently take into account all the packages that are installed. This behaviour is the source of the following dependency conflicts.\n",
            "albumentations 0.1.12 requires imgaug<0.2.7,>=0.2.5, but you have imgaug 0.2.9 which is incompatible.\u001b[0m\n",
            "Successfully installed dateparser-1.1.0 ftfy-6.1.1 herpetologist-0.0.9 malaya-4.7.1 malaya-boilerplate-0.0.15 memoization-0.4.0 networkx-2.5.1 sentencepiece-0.1.96 unidecode-1.3.2\n",
            "Collecting youtokentome\n",
            "  Downloading youtokentome-1.0.6-cp37-cp37m-manylinux2010_x86_64.whl (1.7 MB)\n",
            "\u001b[K     |████████████████████████████████| 1.7 MB 25.6 MB/s \n",
            "\u001b[?25hRequirement already satisfied: Click>=7.0 in /usr/local/lib/python3.7/dist-packages (from youtokentome) (7.1.2)\n",
            "Installing collected packages: youtokentome\n",
            "Successfully installed youtokentome-1.0.6\n",
            "Collecting langdetect\n",
            "  Downloading langdetect-1.0.9.tar.gz (981 kB)\n",
            "\u001b[K     |████████████████████████████████| 981 kB 22.9 MB/s \n",
            "\u001b[?25hRequirement already satisfied: six in /usr/local/lib/python3.7/dist-packages (from langdetect) (1.15.0)\n",
            "Building wheels for collected packages: langdetect\n",
            "  Building wheel for langdetect (setup.py) ... \u001b[?25l\u001b[?25hdone\n",
            "  Created wheel for langdetect: filename=langdetect-1.0.9-py3-none-any.whl size=993242 sha256=b5c5335ac5555ca4d578c4faa04a680a9f195d936b98fcdf0ecdc01add338830\n",
            "  Stored in directory: /root/.cache/pip/wheels/c5/96/8a/f90c59ed25d75e50a8c10a1b1c2d4c402e4dacfa87f3aff36a\n",
            "Successfully built langdetect\n",
            "Installing collected packages: langdetect\n",
            "Successfully installed langdetect-1.0.9\n"
          ]
        }
      ]
    },
    {
      "cell_type": "code",
      "metadata": {
        "colab": {
          "base_uri": "https://localhost:8080/"
        },
        "id": "YiHyTptDxLoe",
        "outputId": "8a298457-89b9-45ff-c1ef-d9c37fa32a0c"
      },
      "source": [
        "from google.colab import drive\n",
        "drive.mount('/content/drive')\n",
        "import sys\n",
        "sys.path.insert(0,'/content/drive/MyDrive/Colab Notebooks')"
      ],
      "id": "YiHyTptDxLoe",
      "execution_count": null,
      "outputs": [
        {
          "output_type": "stream",
          "name": "stdout",
          "text": [
            "Drive already mounted at /content/drive; to attempt to forcibly remount, call drive.mount(\"/content/drive\", force_remount=True).\n"
          ]
        }
      ]
    },
    {
      "cell_type": "markdown",
      "metadata": {
        "id": "Ilat1jDrFMks"
      },
      "source": [
        "Loading supporting tensorflow version based on Malaya Libary requirement"
      ],
      "id": "Ilat1jDrFMks"
    },
    {
      "cell_type": "code",
      "metadata": {
        "colab": {
          "base_uri": "https://localhost:8080/"
        },
        "id": "CAw4tm2n-44E",
        "outputId": "7b585b9e-e8ce-401b-dde7-95007c57490f"
      },
      "source": [
        "tensorflow_version 1.15"
      ],
      "id": "CAw4tm2n-44E",
      "execution_count": null,
      "outputs": [
        {
          "output_type": "stream",
          "name": "stdout",
          "text": [
            "`%tensorflow_version` only switches the major version: 1.x or 2.x.\n",
            "You set: `1.15`. This will be interpreted as: `1.x`.\n",
            "\n",
            "\n",
            "TensorFlow 1.x selected.\n"
          ]
        }
      ]
    },
    {
      "cell_type": "markdown",
      "metadata": {
        "id": "DVZxSVukHXP6"
      },
      "source": [
        "Loading Written Libary for Preprocess and Predicting"
      ],
      "id": "DVZxSVukHXP6"
    },
    {
      "cell_type": "code",
      "metadata": {
        "colab": {
          "base_uri": "https://localhost:8080/"
        },
        "id": "G01vBKN2HEiN",
        "outputId": "2a1da813-ad46-42c5-f971-84e12adce1f2"
      },
      "source": [
        "\n",
        "#---- Essential Libary for Preprocess and Predicting ----\n",
        "from langdetect import detect\n",
        "from predict_using_single_model import predict_text_cnn ,predict_text_lr,predict_text_nb,predict_text_svm\n",
        "from preprocesscleaningtext import preprocess\n"
      ],
      "id": "G01vBKN2HEiN",
      "execution_count": null,
      "outputs": [
        {
          "output_type": "stream",
          "name": "stderr",
          "text": [
            "INFO:root:tested on 77k EN-MS sentences.\n",
            "INFO:root:running translation-en-ms/base using device /device:CPU:0\n",
            "INFO:root:running translation-en-ms/small using device /device:CPU:0\n",
            "INFO:root:running stem/lstm-bahdanau using device /device:CPU:0\n",
            "/usr/local/lib/python3.7/dist-packages/malaya/preprocessing.py:259: FutureWarning: Possible nested set at position 2289\n",
            "  self.tok = re.compile(r'({})'.format('|'.join(pipeline)))\n"
          ]
        }
      ]
    },
    {
      "cell_type": "markdown",
      "metadata": {
        "id": "VzjZszbFTnrY"
      },
      "source": [
        "if it produce an error, simply restart the runtime."
      ],
      "id": "VzjZszbFTnrY"
    },
    {
      "cell_type": "code",
      "metadata": {
        "id": "lXxzMc4yHgkk"
      },
      "source": [
        "from preprocesscleaningtext import deEmojify,removeurl,strip_all_entities,strip_links,normalize,removespecial,removenumerical,lowercase,removemalaystopword,stemmingstring,preprocess\n",
        "\n",
        "import logging\n",
        "from typing import Dict\n",
        "\n",
        "from telegram import ReplyKeyboardMarkup, Update, ReplyKeyboardRemove\n",
        "from telegram.ext import (\n",
        "    Updater,\n",
        "    CommandHandler,\n",
        "    MessageHandler,\n",
        "    Filters,\n",
        "    ConversationHandler,\n",
        "    CallbackContext,\n",
        ")"
      ],
      "id": "lXxzMc4yHgkk",
      "execution_count": null,
      "outputs": []
    },
    {
      "cell_type": "markdown",
      "metadata": {
        "id": "0k-bGSbJGSiC"
      },
      "source": [
        "# Pre-Run Test before launching Telegram\n",
        "\n",
        "Before we run the server, some example text need to be test. If all text can be produce an output then it safe to run. This will be tested on our best model of logistic regression with 91.13%."
      ],
      "id": "0k-bGSbJGSiC"
    },
    {
      "cell_type": "code",
      "metadata": {
        "colab": {
          "base_uri": "https://localhost:8080/"
        },
        "id": "0GYMXFIoxhfQ",
        "outputId": "338e904e-8c30-4576-9317-c9603ba6cf56"
      },
      "source": [
        "\n",
        "\n",
        "TextEng='i would like to report a theft where my phone were stolen by foreigners.'\n",
        "TextMalay='Saya telah kehilangan komputer riba akibat di ambil oleh dua orang lelaki yang mengacukan senjata api kepada belakang kepala saya. Saya tidak pasti senjata api yang di gunakan adalah pistol ataupun senapang. Perkara ini menyebabkan saya mengikuti apa yang di minta oleh dua lelaki itu. Mereka terus melarikan diri setelah saya menyerahkan bag laptop tersebut. Kejadian ini berlaku di Jalan Tumpat , Kelantan.'\n",
        "TextRandom='makan nasi bersama kicap dan maggi pada malam nanti. '\n",
        "TextUnrelated='KUALA LUMPUR: Menggelarkan kumpulan sebagai Childhood Actors, penyanyi dan pelakon, Naim Daniel bergabung dengan lebih 50 artis yang dikenali sejak zaman kanak-kanak bagi membantu insan yang terkesan dengan penularan pandemik COVID-19.'\n",
        "TextRagut='Saya ingin memaklumkan kejadian ragut di mana barangan kemas saya telah di ragut oleh dua orang bermotosikal bernombor plat LP023 di Jalan Tegas 1/3'\n",
        "\n",
        "\n",
        "#English Text\n",
        "text=preprocess(TextEng)\n",
        "print('\\nTeks Baru:',text)\n",
        "kelasjenayah,kebarangkalian=predict_text_lr(text)\n",
        "print('Hasil Tekaan Jenayah:',kelasjenayah)\n",
        "print('Peratus Keyakinan:',kebarangkalian)\n",
        "print('\\n')\n",
        "\n",
        "#Malay Text\n",
        "text=preprocess(TextMalay)\n",
        "print('\\nTeks Baru:',text)\n",
        "kelasjenayah,kebarangkalian=predict_text_lr(text)\n",
        "print('Hasil Tekaan Jenayah:',kelasjenayah)\n",
        "print('Peratus Keyakinan:',kebarangkalian)\n",
        "print('\\n')\n",
        "\n",
        "#Random Text\n",
        "text=preprocess(TextRandom)\n",
        "print(text)\n",
        "kelasjenayah,kebarangkalian=predict_text_lr(text)\n",
        "print('Hasil Tekaan Jenayah:',kelasjenayah)\n",
        "print('Peratus Keyakinan:',kebarangkalian)\n",
        "print('\\n')\n",
        "\n",
        "#Unrelated Text\n",
        "text=preprocess(TextUnrelated)\n",
        "print('\\nTeks Baru:',text)\n",
        "kelasjenayah,kebarangkalian=predict_text_lr(text)\n",
        "print('Hasil Tekaan Jenayah:',kelasjenayah)\n",
        "print('Peratus Keyakinan:',kebarangkalian)\n",
        "print('\\n')\n",
        "\n",
        "#Ragut Text\n",
        "text=preprocess(TextRagut)\n",
        "print('\\nTeks Baru:',text)\n",
        "kelasjenayah,kebarangkalian=predict_text_lr(text)\n",
        "print('Hasil Tekaan Jenayah:',kelasjenayah)\n",
        "print('Peratus Keyakinan:',kebarangkalian)\n",
        "print('\\n')\n",
        "\n",
        "\n"
      ],
      "id": "0GYMXFIoxhfQ",
      "execution_count": null,
      "outputs": [
        {
          "output_type": "stream",
          "name": "stderr",
          "text": [
            "INFO:root:tested on 77k EN-MS sentences.\n",
            "INFO:root:running translation-en-ms/base using device /device:CPU:0\n",
            "INFO:root:running translation-en-ms/small using device /device:CPU:0\n",
            "INFO:root:running stem/lstm-bahdanau using device /device:CPU:0\n",
            "/usr/local/lib/python3.7/dist-packages/sklearn/base.py:338: UserWarning: Trying to unpickle estimator LogisticRegression from version 0.24.1 when using version 1.0.2. This might lead to breaking code or invalid results. Use at your own risk. For more info please refer to:\n",
            "https://scikit-learn.org/stable/modules/model_persistence.html#security-maintainability-limitations\n",
            "  UserWarning,\n",
            "/usr/local/lib/python3.7/dist-packages/sklearn/base.py:338: UserWarning: Trying to unpickle estimator CountVectorizer from version 0.24.1 when using version 1.0.2. This might lead to breaking code or invalid results. Use at your own risk. For more info please refer to:\n",
            "https://scikit-learn.org/stable/modules/model_persistence.html#security-maintainability-limitations\n",
            "  UserWarning,\n",
            "INFO:root:tested on 77k EN-MS sentences.\n"
          ]
        },
        {
          "output_type": "stream",
          "name": "stdout",
          "text": [
            "\n",
            "Teks Baru: ingin lapor curi telefon curi asing\n",
            "Hasil Tekaan Jenayah: curi\n",
            "Peratus Keyakinan: 99.0231\n",
            "\n",
            "\n"
          ]
        },
        {
          "output_type": "stream",
          "name": "stderr",
          "text": [
            "INFO:root:running translation-en-ms/base using device /device:CPU:0\n",
            "INFO:root:running translation-en-ms/small using device /device:CPU:0\n",
            "INFO:root:running stem/lstm-bahdanau using device /device:CPU:0\n",
            "INFO:root:tested on 77k EN-MS sentences.\n"
          ]
        },
        {
          "output_type": "stream",
          "name": "stdout",
          "text": [
            "\n",
            "Teks Baru: hilang komputer riba akibat ambil dua lelaki kacu senjata api belakang kepala senjata api guna pistol senapang ikut dua lelaki terus lari diri serah bag laptop sebut laku jalan tumpat lantan\n",
            "Hasil Tekaan Jenayah: samun berkumpulan bersenjata api\n",
            "Peratus Keyakinan: 86.4736\n",
            "\n",
            "\n"
          ]
        },
        {
          "output_type": "stream",
          "name": "stderr",
          "text": [
            "INFO:root:running translation-en-ms/base using device /device:CPU:0\n",
            "INFO:root:running translation-en-ms/small using device /device:CPU:0\n",
            "INFO:root:running stem/lstm-bahdanau using device /device:CPU:0\n",
            "INFO:root:tested on 77k EN-MS sentences.\n"
          ]
        },
        {
          "output_type": "stream",
          "name": "stdout",
          "text": [
            "makan nasi kicap magi malam nanti\n",
            "Hasil Tekaan Jenayah: Memerlukan siasatan terperinci\n",
            "Peratus Keyakinan: 25.4132\n",
            "\n",
            "\n"
          ]
        },
        {
          "output_type": "stream",
          "name": "stderr",
          "text": [
            "INFO:root:running translation-en-ms/base using device /device:CPU:0\n",
            "INFO:root:running translation-en-ms/small using device /device:CPU:0\n",
            "INFO:root:running stem/lstm-bahdanau using device /device:CPU:0\n",
            "INFO:root:tested on 77k EN-MS sentences.\n"
          ]
        },
        {
          "output_type": "stream",
          "name": "stdout",
          "text": [
            "\n",
            "Teks Baru: kuala lumpur gelar kumpul childhood actors nyanyi lakon naim daniel gabung lima puluh artis nali zaman kanak kanak bantu insan kes tular pandemik covid sembilan belas\n",
            "Hasil Tekaan Jenayah: Memerlukan siasatan terperinci\n",
            "Peratus Keyakinan: 47.5692\n",
            "\n",
            "\n"
          ]
        },
        {
          "output_type": "stream",
          "name": "stderr",
          "text": [
            "INFO:root:running translation-en-ms/base using device /device:CPU:0\n",
            "INFO:root:running translation-en-ms/small using device /device:CPU:0\n",
            "INFO:root:running stem/lstm-bahdanau using device /device:CPU:0\n"
          ]
        },
        {
          "output_type": "stream",
          "name": "stdout",
          "text": [
            "\n",
            "Teks Baru: ingin memmaklumkan ragut barangan kemas ragut dua bermotosikal bernombor plat jalan tegas satu tiga\n",
            "Hasil Tekaan Jenayah: Ragut\n",
            "Peratus Keyakinan: 99.9999\n",
            "\n",
            "\n"
          ]
        }
      ]
    },
    {
      "cell_type": "code",
      "metadata": {
        "colab": {
          "base_uri": "https://localhost:8080/"
        },
        "id": "IAEVD51t3C1K",
        "outputId": "00e86bc0-0f70-4c63-be18-b0e00b89bf2b"
      },
      "source": [
        "TextAdd='Tarikh janji temu vaksinasi COVID-19 penduduk di kawasan Medan Klebang Restu dan Bandar Pulai Jaya di Ipoh yang dikenakan PKPD mulai hari ini akan dijadualkan semula dan dimaklumkan melalui aplikasi MySejahtera. #MenangBersama #LindungDiriLindungSemua https://bernama.com/bm/am/news.php?id=1985898'\n",
        "\n",
        "text=preprocess(TextAdd)\n",
        "print('\\nTeks Baru:',text)\n",
        "kelasjenayah,kebarangkalian=predict_text_lr(text)\n",
        "print('Hasil Tekaan Jenayah:',kelasjenayah)\n",
        "print('Peratus Keyakinan:',kebarangkalian)\n",
        "print('\\n')"
      ],
      "id": "IAEVD51t3C1K",
      "execution_count": null,
      "outputs": [
        {
          "output_type": "stream",
          "name": "stderr",
          "text": [
            "INFO:root:tested on 77k EN-MS sentences.\n",
            "INFO:root:running translation-en-ms/base using device /device:CPU:0\n",
            "INFO:root:running translation-en-ms/small using device /device:CPU:0\n",
            "INFO:root:running stem/lstm-bahdanau using device /device:CPU:0\n"
          ]
        },
        {
          "output_type": "stream",
          "name": "stdout",
          "text": [
            "\n",
            "Teks Baru: tarikh janji temu vaksinasi covid sembilan belas duduk kawasan medan klebang restu bandar pulai jaya ipoh kena pkpd mulai hari dijadualkan semu maklum aplikasi mysejahtera\n",
            "Hasil Tekaan Jenayah: Memerlukan siasatan terperinci\n",
            "Peratus Keyakinan: 26.3538\n",
            "\n",
            "\n"
          ]
        },
        {
          "output_type": "stream",
          "name": "stderr",
          "text": [
            "/usr/local/lib/python3.7/dist-packages/sklearn/base.py:318: UserWarning: Trying to unpickle estimator LogisticRegression from version 0.24.1 when using version 0.22.2.post1. This might lead to breaking code or invalid results. Use at your own risk.\n",
            "  UserWarning)\n",
            "/usr/local/lib/python3.7/dist-packages/sklearn/base.py:318: UserWarning: Trying to unpickle estimator CountVectorizer from version 0.24.1 when using version 0.22.2.post1. This might lead to breaking code or invalid results. Use at your own risk.\n",
            "  UserWarning)\n"
          ]
        }
      ]
    },
    {
      "cell_type": "markdown",
      "metadata": {
        "id": "PH6Hc0zQSqCr"
      },
      "source": [
        "# Launching Telegram Bot\n",
        "\n",
        "It will continue to run until stop the execution press on. "
      ],
      "id": "PH6Hc0zQSqCr"
    },
    {
      "cell_type": "code",
      "metadata": {
        "colab": {
          "background_save": true,
          "base_uri": "https://localhost:8080/"
        },
        "id": "random-advertising",
        "outputId": "6ea2dbbc-a02b-4102-9306-b9b145267ac1"
      },
      "source": [
        "#!/usr/bin/env python\n",
        "# pylint: disable=C0116\n",
        "# This program is dedicated to the public domain under the CC0 license.\n",
        "\n",
        "\"\"\"\n",
        "First, a few callback functions are defined. Then, those functions are passed to\n",
        "the Dispatcher and registered at their respective places.\n",
        "Then, the bot is started and runs until we press Ctrl-C on the command line.\n",
        "Usage:\n",
        "Example of a bot-user conversation using ConversationHandler.\n",
        "Send /start to initiate the conversation.\n",
        "Press Ctrl-C on the command line or send a signal to the process to stop the\n",
        "bot.\n",
        "\"\"\"\n",
        "# from preprocesscleaningtext import deEmojify,removeurl,strip_all_entities,strip_links,normalize,removespecial,removenumerical,lowercase,removemalaystopword,stemmingstring,preprocess\n",
        "\n",
        "# import logging\n",
        "# from typing import Dict\n",
        "\n",
        "# from telegram import ReplyKeyboardMarkup, Update, ReplyKeyboardRemove\n",
        "# from telegram.ext import (\n",
        "#     Updater,\n",
        "#     CommandHandler,\n",
        "#     MessageHandler,\n",
        "#     Filters,\n",
        "#     ConversationHandler,\n",
        "#     CallbackContext,\n",
        "# )\n",
        "# Enable logging\n",
        "logging.basicConfig(\n",
        "    format='%(asctime)s - %(name)s - %(levelname)s - %(message)s', level=logging.INFO\n",
        ")\n",
        "\n",
        "logger = logging.getLogger(__name__)\n",
        "\n",
        "CHOOSING, TYPING_REPLY, TYPING_CHOICE = range(3)\n",
        "\n",
        "from telegram import (KeyboardButton)\n",
        "\n",
        "location_keyboard = KeyboardButton(text=\"Geo Lokasi Secara langsung\",  request_location=True) \n",
        "\n",
        "reply_keyboard = [\n",
        "    ['Nama', 'No K/P'],\n",
        "    ['Jantina', 'Tarikh Lahir'],\n",
        "    ['Keturunan', 'Warganegara'],\n",
        "    ['Alamat Tempat Tinggal', 'No Telefon'],\n",
        "    [ 'Laporan',location_keyboard],\n",
        "    ['Done'],\n",
        "]\n",
        "\n",
        "# location_keyboard = KeyboardButton(text=\"send_location\",  request_location=True) \n",
        "\n",
        "# reply_keyboard = [\n",
        "#     ['Nama', 'No K/P'],\n",
        "#     ['Jantina', 'Tarikh Lahir'],\n",
        "#     ['Keturunan', 'Warganegara'],\n",
        "#     ['Alamat Tempat Tinggal', 'No Telefon'],\n",
        "#     [ 'Laporan','Geo Lokasi Pengadu Semasa'],\n",
        "#     ['Done'],\n",
        "# ]\n",
        "markup = ReplyKeyboardMarkup(reply_keyboard, one_time_keyboard=True)\n",
        "\n",
        "\n",
        "def facts_to_str(user_data: Dict[str, str]) -> str:\n",
        "    facts = list()\n",
        "\n",
        "    for key, value in user_data.items():\n",
        "        facts.append(f'{key} - {value}')\n",
        "\n",
        "    return \"\\n\".join(facts).join(['\\n', '\\n'])\n",
        "\n",
        "\n",
        "def start(update: Update, _: CallbackContext) -> int:\n",
        "    update.message.reply_text(\n",
        "        \"Selamat Sejahtera! Saya adalah ICI-Bot. \"\n",
        "        \"Saya akan menerima laporan anda\",\n",
        "        reply_markup=markup,\n",
        "    )\n",
        "\n",
        "    return CHOOSING\n",
        "\n",
        "\n",
        "def regular_choice(update: Update, context: CallbackContext) -> int:\n",
        "    text = update.message.text\n",
        "    context.user_data['choice'] = text\n",
        "\n",
        "    update.message.reply_text(f'Sila isi {text.lower()} anda.')\n",
        "    \n",
        "    return TYPING_REPLY\n",
        "\n",
        "\n",
        "def custom_choice(update: Update, context: CallbackContext) -> int:\n",
        "\n",
        "    msg = update.message.location\n",
        "    print(msg)\n",
        "    context.user_data['Geo Lokasi Secara langsung'] = msg\n",
        "    update.message.reply_text('lat: {}, lng: {}'.format(\n",
        "        msg.location.latitude, msg.location.longitude))\n",
        "    print(msg.location.latitude)\n",
        "\n",
        "    return TYPING_REPLY\n",
        "\n",
        "# def custom_choice(update: Update, _: CallbackContext) -> int:\n",
        "#     update.message.reply_text(\n",
        "#         'Alright, please send me the category first, for example \"Most impressive skill\"'\n",
        "#     )\n",
        "    \n",
        "\n",
        "#     return TYPING_CHOICE\n",
        "\n",
        "\n",
        "def received_information(update: Update, context: CallbackContext) -> int:\n",
        "    user_data = context.user_data\n",
        "    text = update.message.text\n",
        "    category = user_data['choice']\n",
        "    user_data[category] = text\n",
        "    del user_data['choice']\n",
        "\n",
        "    update.message.reply_text(\n",
        "        \"\\nSetakat ini, saya menerima butiran laporan iaitu:\"\n",
        "        f\"{facts_to_str(user_data)}\\n Anda boleh menambah atau menukar semula butiran laporan anda\"\n",
        "        \"\\n Tekan Done untuk menghantar laporan anda. Pastikan anda melengkapkan semua butiran anda.\",\n",
        "        reply_markup=markup,\n",
        "    )\n",
        "\n",
        "    return CHOOSING\n",
        "\n",
        "\n",
        "def done(update: Update, context: CallbackContext) -> int:\n",
        "    user_data = context.user_data\n",
        "    if 'choice' in user_data:\n",
        "        del user_data['choice']\n",
        "    #preprocess the text ,return text\n",
        "    #predict the text, return result predicted\n",
        "    Laporan=context.user_data['Laporan']\n",
        "    text=preprocess(Laporan)\n",
        "\n",
        "    kelasjenayah,kebarangkalian=predict_text_lr(text)\n",
        "\n",
        "\n",
        "    # print('Hasil Tekaan Jenayah:',kelasjenayah)\n",
        "    # print('Peratus Keyakinan:',kebarangkalian)\n",
        "\n",
        "    print('Laporan:',Laporan)  \n",
        "    print('text:',text)\n",
        "    print('Hasil Tekaan Jenayah:',kelasjenayah)\n",
        "    print('Peratus Keyakinan:',kebarangkalian)   \n",
        "      \n",
        "\n",
        "    if (kebarangkalian > 80.00):\n",
        "      update.message.reply_text(\n",
        "        f\"\\nIni adalah butiran yang anda isi: {facts_to_str(user_data)}\\nlaporan anda di kategorikan sebagai {kelasjenayah} dengan peratus keyakinan sebanyak {kebarangkalian} \\n\\nSekiranya anda ingin membuat laporan yang lain boleh taip (/start) di ruangan balas.\\n\\nTerima kasih kerana mengunakan ICI-Bot\",\n",
        "        reply_markup=ReplyKeyboardRemove(),)\n",
        "    else:\n",
        "      update.message.reply_text(\n",
        "        f\"\\nIni adalah butiran yang anda isi: {facts_to_str(user_data)}\\nlaporan anda di kategorikan sebagai {kelasjenayah} kerana peratus keyakinan yang kurang sebanyak {kebarangkalian} \\n\\nSekiranya anda ingin membuat laporan yang lain boleh taip (/start) di ruangan balas.\\n\\nTerima kasih kerana mengunakan ICI-Bot\",\n",
        "        reply_markup=ReplyKeyboardRemove(),)\n",
        "      \n",
        "    \n",
        "      \n",
        "    \n",
        "\n",
        "      \n",
        "  \n",
        "\n",
        "    # print(user_data)\n",
        "    # print(type(user_data))\n",
        "    # a=user_data\n",
        "    # print(a['Geo Lokasi Secara langsung']['longitude'])\n",
        "\n",
        "    user_data.clear()\n",
        "    return ConversationHandler.END\n",
        "\n",
        "def main() -> None:\n",
        "    # Create the Updater and pass it your bot's token.\n",
        "    updater = Updater(\"1845276394:AAHREhhxvUmgZwFKoY0h82Qonh22LVDVgLI\")\n",
        "\n",
        "    # Get the dispatcher to register handlers\n",
        "    dispatcher = updater.dispatcher\n",
        "\n",
        "    # Add conversation handler with the states CHOOSING, TYPING_CHOICE and TYPING_REPLY\n",
        "    conv_handler = ConversationHandler(\n",
        "        entry_points=[CommandHandler('start', start)],\n",
        "        states={\n",
        "            CHOOSING: [\n",
        "                MessageHandler(\n",
        "                    Filters.regex('^(Nama|No K/P|Jantina|Tarikh Lahir|Keturunan|Warganegara|Alamat Tempat Tinggal|No Telefon|Laporan|Geo Lokasi Secara langsung)$'), regular_choice\n",
        "                ),\n",
        "                MessageHandler(Filters.location,custom_choice),\n",
        "            ],\n",
        "            TYPING_CHOICE: [\n",
        "                MessageHandler(\n",
        "                    Filters.text & ~(Filters.command | Filters.regex('^Done$')), regular_choice\n",
        "                )\n",
        "            ],\n",
        "            TYPING_REPLY: [\n",
        "                MessageHandler(\n",
        "                    Filters.text & ~(Filters.command | Filters.regex('^Done$')),\n",
        "                    received_information,\n",
        "                )\n",
        "            ],\n",
        "        },\n",
        "        fallbacks=[MessageHandler(Filters.regex('^Done$'), done)],\n",
        "    )\n",
        "\n",
        "    dispatcher.add_handler(conv_handler)\n",
        "\n",
        "    # Start the Bot\n",
        "    updater.start_polling()\n",
        "\n",
        "    # Run the bot until you press Ctrl-C or the process receives SIGINT,\n",
        "    # SIGTERM or SIGABRT. This should be used most of the time, since\n",
        "    # start_polling() is non-blocking and will stop the bot gracefully.\n",
        "    updater.idle()\n",
        "\n",
        "\n",
        "if __name__ == '__main__':\n",
        "    main()"
      ],
      "id": "random-advertising",
      "execution_count": null,
      "outputs": [
        {
          "name": "stderr",
          "output_type": "stream",
          "text": [
            "INFO:apscheduler.scheduler:Scheduler started\n",
            "ERROR:telegram.ext.dispatcher:No error handlers are registered, logging exception.\n",
            "Traceback (most recent call last):\n",
            "  File \"/usr/local/lib/python3.7/dist-packages/telegram/ext/dispatcher.py\", line 555, in process_update\n",
            "    handler.handle_update(update, self, check, context)\n",
            "  File \"/usr/local/lib/python3.7/dist-packages/telegram/ext/conversationhandler.py\", line 626, in handle_update\n",
            "    new_state = handler.handle_update(update, dispatcher, check_result, context)\n",
            "  File \"/usr/local/lib/python3.7/dist-packages/telegram/ext/handler.py\", line 198, in handle_update\n",
            "    return self.callback(update, context)\n",
            "  File \"<ipython-input-9-80a28a5f7e43>\", line 98, in custom_choice\n",
            "    msg.location.latitude, msg.location.longitude))\n",
            "AttributeError: 'Location' object has no attribute 'location'\n"
          ]
        },
        {
          "name": "stdout",
          "output_type": "stream",
          "text": [
            "{'longitude': 101.764925, 'latitude': 3.011178}\n"
          ]
        },
        {
          "name": "stderr",
          "output_type": "stream",
          "text": [
            "INFO:root:tested on 77k EN-MS sentences.\n",
            "INFO:root:running translation-en-ms/base using device /device:CPU:0\n",
            "INFO:root:running translation-en-ms/small using device /device:CPU:0\n",
            "INFO:root:running stem/lstm-bahdanau using device /device:CPU:0\n",
            "/usr/local/lib/python3.7/dist-packages/sklearn/base.py:318: UserWarning: Trying to unpickle estimator LogisticRegression from version 0.24.1 when using version 0.22.2.post1. This might lead to breaking code or invalid results. Use at your own risk.\n",
            "  UserWarning)\n",
            "/usr/local/lib/python3.7/dist-packages/sklearn/base.py:318: UserWarning: Trying to unpickle estimator CountVectorizer from version 0.24.1 when using version 0.22.2.post1. This might lead to breaking code or invalid results. Use at your own risk.\n",
            "  UserWarning)\n"
          ]
        },
        {
          "name": "stdout",
          "output_type": "stream",
          "text": [
            "Laporan: Saya ingin melaporkan, bahawa saya telah menjumpai mayat di hadapan rumah saya. Mayat tersebut mempunyai kesan tikaman dan kelihatan masih baru kerana tidak berbau.\n",
            "text: ingin lapor jumpa mayat hadap rumah mayat sebut punya tikam lihat baru rana bau\n",
            "Hasil Tekaan Jenayah: Bunuh\n",
            "Peratus Keyakinan: 83.1891\n"
          ]
        },
        {
          "name": "stderr",
          "output_type": "stream",
          "text": [
            "INFO:root:tested on 77k EN-MS sentences.\n",
            "INFO:root:running translation-en-ms/base using device /device:CPU:0\n",
            "INFO:root:running translation-en-ms/small using device /device:CPU:0\n",
            "INFO:root:running stem/lstm-bahdanau using device /device:CPU:0\n"
          ]
        },
        {
          "name": "stdout",
          "output_type": "stream",
          "text": [
            "Laporan: Saya ingin melaporkan, bahawa saya telah menjumpai mayit di hadapan rumah saya. Mayit tersebut mempunyai kesan tikaman dan kelihatan masih baru kerana tidak berbau.\n",
            "text: ingin lapor jumpa mayi hadap rumah mayit sebut punya tikam lihat baru rana bau\n",
            "Hasil Tekaan Jenayah: Memerlukan siasatan terperinci\n",
            "Peratus Keyakinan: 41.8241\n"
          ]
        },
        {
          "name": "stderr",
          "output_type": "stream",
          "text": [
            "INFO:root:tested on 77k EN-MS sentences.\n",
            "INFO:root:running translation-en-ms/base using device /device:CPU:0\n",
            "INFO:root:running translation-en-ms/small using device /device:CPU:0\n",
            "INFO:root:running stem/lstm-bahdanau using device /device:CPU:0\n"
          ]
        },
        {
          "name": "stdout",
          "output_type": "stream",
          "text": [
            "Laporan: Sy ingin melaporkan, bahawa sy telah menjumpai mayat di hadapan rumah saya. Mayat tersebut mempunyai kesan tikaman dan kelihatan masih baru kerana tidak berbau.\n",
            "text: sy ingin lapor jumpa mayat hadap rumah mayat sebut punya tikam lihat baru rana bau\n",
            "Hasil Tekaan Jenayah: Bunuh\n",
            "Peratus Keyakinan: 83.1891\n"
          ]
        },
        {
          "name": "stderr",
          "output_type": "stream",
          "text": [
            "INFO:root:tested on 77k EN-MS sentences.\n",
            "INFO:root:running translation-en-ms/base using device /device:CPU:0\n",
            "INFO:root:running translation-en-ms/small using device /device:CPU:0\n",
            "INFO:root:running stem/lstm-bahdanau using device /device:CPU:0\n"
          ]
        },
        {
          "name": "stdout",
          "output_type": "stream",
          "text": [
            "Laporan: Sy ingin melaporkan, bahawa sy telah menjumpai orang mati di hadapan rumah saya. Orang mati tersebut mempunyai kesan tikaman dan kelihatan masih baru kerana tidak berbau.\n",
            "text: sy ingin lapor jumpa mati hadap rumah mati sebut punya tikam lihat baru rana bau\n",
            "Hasil Tekaan Jenayah: Memerlukan siasatan terperinci\n",
            "Peratus Keyakinan: 35.809\n"
          ]
        },
        {
          "name": "stderr",
          "output_type": "stream",
          "text": [
            "INFO:telegram.ext.updater:Received signal 2 (SIGINT), stopping...\n",
            "INFO:apscheduler.scheduler:Scheduler has been shut down\n"
          ]
        }
      ]
    }
  ]
}